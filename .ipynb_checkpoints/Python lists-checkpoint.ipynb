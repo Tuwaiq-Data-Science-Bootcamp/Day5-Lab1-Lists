{
 "cells": [
  {
   "cell_type": "code",
   "execution_count": 1,
   "id": "950528ac",
   "metadata": {},
   "outputs": [],
   "source": [
    "l=[5, 4, 17, 19, 30, 2, 7, 10, 45]"
   ]
  },
  {
   "cell_type": "markdown",
   "id": "7dafc636",
   "metadata": {},
   "source": [
    "# Q1: Write a Python program to sum all the items in the list."
   ]
  },
  {
   "cell_type": "code",
   "execution_count": 4,
   "id": "3e26c043",
   "metadata": {},
   "outputs": [
    {
     "data": {
      "text/plain": [
       "139"
      ]
     },
     "execution_count": 4,
     "metadata": {},
     "output_type": "execute_result"
    }
   ],
   "source": [
    "summation = sum(l)\n",
    "summation"
   ]
  },
  {
   "cell_type": "markdown",
   "id": "28254670",
   "metadata": {},
   "source": [
    "# Q2: Write a Python program to get the largest number from the list.\n"
   ]
  },
  {
   "cell_type": "code",
   "execution_count": 5,
   "id": "815624f2",
   "metadata": {},
   "outputs": [
    {
     "data": {
      "text/plain": [
       "45"
      ]
     },
     "execution_count": 5,
     "metadata": {},
     "output_type": "execute_result"
    }
   ],
   "source": [
    "largest = max(l)\n",
    "largest"
   ]
  },
  {
   "cell_type": "markdown",
   "id": "96f2f625",
   "metadata": {},
   "source": [
    "# Q3: Use list comprehension, create a new list from the above list containing only even numbers."
   ]
  },
  {
   "cell_type": "code",
   "execution_count": 10,
   "id": "9cb8e458",
   "metadata": {},
   "outputs": [
    {
     "name": "stdout",
     "output_type": "stream",
     "text": [
      "[4, 30, 2, 10]\n"
     ]
    }
   ],
   "source": [
    "newlst = []\n",
    "newlst = [i for i in l if i%2==0]\n",
    "print(newlst)"
   ]
  },
  {
   "cell_type": "markdown",
   "id": "e9779f31",
   "metadata": {},
   "source": [
    "# Q4: Use list slicing to get a new list from the previous list starting from the start to the 5th element in the list."
   ]
  },
  {
   "cell_type": "code",
   "execution_count": 9,
   "id": "de749c5f",
   "metadata": {},
   "outputs": [
    {
     "data": {
      "text/plain": [
       "[5, 4, 17, 19, 30]"
      ]
     },
     "execution_count": 9,
     "metadata": {},
     "output_type": "execute_result"
    }
   ],
   "source": [
    "l2=l[:5]\n",
    "l2"
   ]
  },
  {
   "cell_type": "code",
   "execution_count": null,
   "id": "89910077",
   "metadata": {},
   "outputs": [],
   "source": []
  }
 ],
 "metadata": {
  "kernelspec": {
   "display_name": "Python 3",
   "language": "python",
   "name": "python3"
  },
  "language_info": {
   "codemirror_mode": {
    "name": "ipython",
    "version": 3
   },
   "file_extension": ".py",
   "mimetype": "text/x-python",
   "name": "python",
   "nbconvert_exporter": "python",
   "pygments_lexer": "ipython3",
   "version": "3.8.5"
  }
 },
 "nbformat": 4,
 "nbformat_minor": 5
}
