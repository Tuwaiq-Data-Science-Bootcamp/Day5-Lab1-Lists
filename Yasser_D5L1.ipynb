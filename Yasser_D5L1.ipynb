{
 "cells": [
  {
   "cell_type": "code",
   "execution_count": 7,
   "metadata": {},
   "outputs": [
    {
     "name": "stdout",
     "output_type": "stream",
     "text": [
      "139\n",
      "45\n",
      "[4, 30, 2, 10]\n",
      "[5, 4, 17, 19, 30]\n"
     ]
    }
   ],
   "source": [
    "s = [5, 4, 17, 19, 30, 2, 7, 10, 45]\n",
    "\n",
    "#A1\n",
    "summ = 0\n",
    "for item in s:\n",
    "    summ += item\n",
    "print(summ)\n",
    "\n",
    "#A2\n",
    "print(max(s))\n",
    "\n",
    "#A3\n",
    "ss = [item for item in s if item %2 == 0]\n",
    "print(ss)\n",
    "\n",
    "#A4\n",
    "sss = s[:5]\n",
    "print(sss)"
   ]
  },
  {
   "cell_type": "code",
   "execution_count": null,
   "metadata": {},
   "outputs": [],
   "source": []
  }
 ],
 "metadata": {
  "kernelspec": {
   "display_name": "Python 3.10.8 64-bit",
   "language": "python",
   "name": "python3"
  },
  "language_info": {
   "codemirror_mode": {
    "name": "ipython",
    "version": 3
   },
   "file_extension": ".py",
   "mimetype": "text/x-python",
   "name": "python",
   "nbconvert_exporter": "python",
   "pygments_lexer": "ipython3",
   "version": "3.10.8"
  },
  "orig_nbformat": 4,
  "vscode": {
   "interpreter": {
    "hash": "37790ba2a09019fe53a2f1d81386b9ad2e2158e92ef42af577a5cadc6d647896"
   }
  }
 },
 "nbformat": 4,
 "nbformat_minor": 2
}
