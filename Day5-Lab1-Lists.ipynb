{
 "cells": [
  {
   "cell_type": "markdown",
   "id": "64d353c0",
   "metadata": {},
   "source": [
    "# Day5-Lab1-Lists\n",
    "> **Ghadah Alabduljabbar**"
   ]
  },
  {
   "cell_type": "markdown",
   "id": "96b28c3f",
   "metadata": {},
   "source": [
    "# Day5-Lab1-Lists\n",
    "\n",
    "Given the following list : [5, 4, 17, 19, 30, 2, 7, 10, 45]\n",
    "\n",
    "- Q1: Write a Python program to sum all the items in the list."
   ]
  },
  {
   "cell_type": "code",
   "execution_count": 1,
   "id": "c1ece0bc",
   "metadata": {},
   "outputs": [
    {
     "name": "stdout",
     "output_type": "stream",
     "text": [
      "139\n"
     ]
    }
   ],
   "source": [
    "L = [5, 4, 17, 19, 30, 2, 7, 10, 45]\n",
    "\n",
    "sumL = 0\n",
    "\n",
    "for x in L:\n",
    "    sumL += x\n",
    "    \n",
    "print(sumL)"
   ]
  },
  {
   "cell_type": "markdown",
   "id": "b23432d9",
   "metadata": {},
   "source": [
    "- Q2: Write a Python program to get the largest number from the list."
   ]
  },
  {
   "cell_type": "code",
   "execution_count": 2,
   "id": "29393409",
   "metadata": {},
   "outputs": [
    {
     "name": "stdout",
     "output_type": "stream",
     "text": [
      "45\n"
     ]
    }
   ],
   "source": [
    "print(max(L))"
   ]
  },
  {
   "cell_type": "markdown",
   "id": "19a9dd94",
   "metadata": {},
   "source": [
    "- Q3: Use list comprehension, create a new list from the above list containing only even numbers."
   ]
  },
  {
   "cell_type": "code",
   "execution_count": 3,
   "id": "918b244b",
   "metadata": {},
   "outputs": [
    {
     "name": "stdout",
     "output_type": "stream",
     "text": [
      "[4, 30, 2, 10]\n"
     ]
    }
   ],
   "source": [
    "newL = []\n",
    "newL = [item for item in L if item%2 == 0]\n",
    "print(newL)"
   ]
  },
  {
   "cell_type": "markdown",
   "id": "c91a7070",
   "metadata": {},
   "source": [
    "- Q4: Use list slicing to get a new list from the previous list starting from the start to the 5th element in the list."
   ]
  },
  {
   "cell_type": "code",
   "execution_count": 4,
   "id": "efd2e314",
   "metadata": {},
   "outputs": [
    {
     "name": "stdout",
     "output_type": "stream",
     "text": [
      "[5, 4, 17, 19, 30]\n"
     ]
    }
   ],
   "source": [
    "newLslic = L[0:5]\n",
    "print(newLslic)"
   ]
  }
 ],
 "metadata": {
  "kernelspec": {
   "display_name": "Python 3 (ipykernel)",
   "language": "python",
   "name": "python3"
  },
  "language_info": {
   "codemirror_mode": {
    "name": "ipython",
    "version": 3
   },
   "file_extension": ".py",
   "mimetype": "text/x-python",
   "name": "python",
   "nbconvert_exporter": "python",
   "pygments_lexer": "ipython3",
   "version": "3.9.7"
  }
 },
 "nbformat": 4,
 "nbformat_minor": 5
}
